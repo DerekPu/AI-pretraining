{
 "cells": [
  {
   "cell_type": "markdown",
   "metadata": {
    "colab_type": "text",
    "id": "view-in-github"
   },
   "source": [
    "# “Dogs vs. Cats” Challenge"
   ]
  },
  {
   "cell_type": "markdown",
   "metadata": {
    "colab_type": "text",
    "id": "ibzpSDTbyYBE"
   },
   "source": [
    "# Downloading dataset from Kaggle"
   ]
  },
  {
   "cell_type": "code",
   "execution_count": null,
   "metadata": {
    "colab": {
     "base_uri": "https://localhost:8080/",
     "height": 34
    },
    "colab_type": "code",
    "id": "3JjKIrg1yG-F",
    "outputId": "771bef0e-19b3-4083-c164-8ab3c2f5fea5"
   },
   "outputs": [],
   "source": [
    "# Let's make sure the kaggle.json file is present.\n",
    "!ls -lha kaggle.json"
   ]
  },
  {
   "cell_type": "code",
   "execution_count": null,
   "metadata": {
    "colab": {},
    "colab_type": "code",
    "id": "Djl-P00MyObX"
   },
   "outputs": [],
   "source": [
    "# Next, install the Kaggle API client.\n",
    "!pip install -q kaggle"
   ]
  },
  {
   "cell_type": "code",
   "execution_count": null,
   "metadata": {
    "colab": {},
    "colab_type": "code",
    "id": "XdxdoM-ayRjN"
   },
   "outputs": [],
   "source": [
    "# The Kaggle API client expects this file to be in ~/.kaggle,\n",
    "# so move it there.\n",
    "!mkdir -p ~/.kaggle\n",
    "!cp kaggle.json ~/.kaggle/\n",
    "\n",
    "# This permissions change avoids a warning on Kaggle tool startup.\n",
    "!chmod 600 ~/.kaggle/kaggle.json"
   ]
  },
  {
   "cell_type": "code",
   "execution_count": null,
   "metadata": {
    "colab": {
     "base_uri": "https://localhost:8080/",
     "height": 170
    },
    "colab_type": "code",
    "id": "GhC7ZU5lyT-W",
    "outputId": "0d65f02b-32c2-4994-9505-80d4baa330de"
   },
   "outputs": [],
   "source": [
    "!kaggle competitions download -c dogs-vs-cats"
   ]
  },
  {
   "cell_type": "code",
   "execution_count": null,
   "metadata": {
    "colab": {
     "base_uri": "https://localhost:8080/",
     "height": 153
    },
    "colab_type": "code",
    "id": "mXTYg72iyW5g",
    "outputId": "1b522556-97e5-4c8b-d157-e1799473b26f"
   },
   "outputs": [],
   "source": [
    "!unzip dogs-vs-cats.zip"
   ]
  },
  {
   "cell_type": "code",
   "execution_count": null,
   "metadata": {
    "colab": {
     "base_uri": "https://localhost:8080/",
     "height": 51
    },
    "colab_type": "code",
    "id": "QjOBS7sHy3ZK",
    "outputId": "8c7b1cdb-61b5-4c48-eca5-fd21c7ad8a7c"
   },
   "outputs": [],
   "source": [
    "from zipfile import ZipFile\n",
    "\n",
    "file_name = \"train.zip\"\n",
    "\n",
    "# opening the zip file in read me mode\n",
    "with ZipFile(file_name, 'r') as zip :\n",
    "  print(\"Extracting the files...\")\n",
    "  zip.extractall()\n",
    "  print(\"Done\")"
   ]
  },
  {
   "cell_type": "code",
   "execution_count": null,
   "metadata": {
    "colab": {
     "base_uri": "https://localhost:8080/",
     "height": 51
    },
    "colab_type": "code",
    "id": "9tCvrQiSy6eg",
    "outputId": "10ee9d83-77b4-4ee8-fb4d-6f99cdcfc119"
   },
   "outputs": [],
   "source": [
    "file_name = \"test1.zip\"\n",
    "\n",
    "# opening the zip file in read me mode\n",
    "with ZipFile(file_name, 'r') as zip :\n",
    "  print(\"Extracting the files...\")\n",
    "  zip.extractall()\n",
    "  print(\"Done\")"
   ]
  },
  {
   "cell_type": "markdown",
   "metadata": {
    "colab_type": "text",
    "id": "1sF6UCFWyhdT"
   },
   "source": [
    "# Importing Libraries"
   ]
  },
  {
   "cell_type": "code",
   "execution_count": null,
   "metadata": {},
   "outputs": [],
   "source": [
    "!pip install np_utils\n",
    "!pip install sklearn"
   ]
  },
  {
   "cell_type": "code",
   "execution_count": null,
   "metadata": {
    "colab": {
     "base_uri": "https://localhost:8080/",
     "height": 153
    },
    "colab_type": "code",
    "id": "jR5IY9Cckz3Q",
    "outputId": "6a619307-ad4b-43a1-cc77-854ec8bddb18"
   },
   "outputs": [],
   "source": [
    "import os, cv2, itertools\n",
    "import numpy as np\n",
    "import pandas as pd\n",
    "\n",
    "import matplotlib.pyplot as plt\n",
    "%matplotlib inline\n",
    "\n",
    "from keras.utils.np_utils import to_categorical\n",
    "from keras.models import Sequential\n",
    "from keras.layers import Conv2D\n",
    "from keras.layers import MaxPooling2D\n",
    "from keras.layers import Flatten\n",
    "from keras.layers import Dense\n",
    "from keras.layers import Dropout\n",
    "from sklearn.utils import shuffle\n",
    "\n",
    "import sklearn\n",
    "from sklearn.model_selection import train_test_split"
   ]
  },
  {
   "cell_type": "markdown",
   "metadata": {
    "colab_type": "text",
    "id": "_Ka0JaBUBB97"
   },
   "source": [
    "# Converting image's to vectors"
   ]
  },
  {
   "cell_type": "code",
   "execution_count": null,
   "metadata": {
    "colab": {},
    "colab_type": "code",
    "id": "V5EaFmH9BH4g"
   },
   "outputs": [],
   "source": [
    "TRAIN_DIR = './train/'\n",
    "TEST_DIR = './test1/'"
   ]
  },
  {
   "cell_type": "code",
   "execution_count": null,
   "metadata": {
    "colab": {},
    "colab_type": "code",
    "id": "ZC12uKZHBR4E"
   },
   "outputs": [],
   "source": [
    "ROWS = 64\n",
    "COLS = 64\n",
    "CHANNELS = 3"
   ]
  },
  {
   "cell_type": "code",
   "execution_count": null,
   "metadata": {
    "colab": {},
    "colab_type": "code",
    "id": "91JhcjkvBTas"
   },
   "outputs": [],
   "source": [
    "train_images = [TRAIN_DIR+i for i in os.listdir(TRAIN_DIR)]\n",
    "test_images = [TEST_DIR+i for i in os.listdir(TEST_DIR)]"
   ]
  },
  {
   "cell_type": "code",
   "execution_count": null,
   "metadata": {
    "colab": {},
    "colab_type": "code",
    "id": "eDVPzvZKBWow"
   },
   "outputs": [],
   "source": [
    "def read_image(file_path):\n",
    "  #print(file_path)\n",
    "  img = cv2.imread(file_path, cv2.IMREAD_COLOR)\n",
    "  #print(img)\n",
    "  return cv2.resize(img, (ROWS, COLS), interpolation=cv2.INTER_CUBIC)"
   ]
  },
  {
   "cell_type": "code",
   "execution_count": null,
   "metadata": {
    "colab": {},
    "colab_type": "code",
    "id": "oAwhoHywBakI"
   },
   "outputs": [],
   "source": [
    "def prep_data(images):\n",
    "  m = len(images)\n",
    "  n_x = ROWS*COLS*CHANNELS\n",
    "  \n",
    "  X = np.ndarray((m,ROWS,COLS,CHANNELS), dtype=np.uint8)\n",
    "  y = np.zeros((m,1))\n",
    "  print(\"X.shape is {}\".format(X.shape))\n",
    "  \n",
    "  for i,image_file in enumerate(images) :\n",
    "    image = read_image(image_file)\n",
    "    X[i,:] = np.squeeze(image.reshape((ROWS, COLS, CHANNELS)))\n",
    "    if 'dog' in image_file.lower() :\n",
    "      y[i,0] = 1\n",
    "    elif 'cat' in image_file.lower() :\n",
    "      y[i,0] = 0\n",
    "    else : # for test data\n",
    "      y[i,0] = image_file.split('/')[-1].split('.')[0]\n",
    "      \n",
    "    if i%5000 == 0 :\n",
    "      print(\"Proceed {} of {}\".format(i, m))\n",
    "    \n",
    "  return X,y"
   ]
  },
  {
   "cell_type": "code",
   "execution_count": null,
   "metadata": {
    "colab": {
     "base_uri": "https://localhost:8080/",
     "height": 187
    },
    "colab_type": "code",
    "id": "Gg1QVYhXCBfr",
    "outputId": "c405ad45-8e80-45ab-c312-7028145d60d3"
   },
   "outputs": [],
   "source": [
    "X_train, y_train = prep_data(train_images)\n",
    "X_test, y_test = prep_data(test_images)"
   ]
  },
  {
   "cell_type": "code",
   "execution_count": null,
   "metadata": {
    "colab": {
     "base_uri": "https://localhost:8080/",
     "height": 51
    },
    "colab_type": "code",
    "id": "Fs8-hcfqtb7u",
    "outputId": "1fd2ba9c-97a1-4113-da7a-1080e7e48e22"
   },
   "outputs": [],
   "source": [
    "print(\"Train shape: {}\".format(X_train.shape))\n",
    "print(\"Test shape: {}\".format(X_test.shape))"
   ]
  },
  {
   "cell_type": "code",
   "execution_count": null,
   "metadata": {
    "colab": {},
    "colab_type": "code",
    "id": "SLcqmnLH_7Wb"
   },
   "outputs": [],
   "source": [
    "X, y = shuffle(X_train, y_train)"
   ]
  },
  {
   "cell_type": "code",
   "execution_count": null,
   "metadata": {
    "colab": {
     "base_uri": "https://localhost:8080/",
     "height": 34
    },
    "colab_type": "code",
    "id": "g6a8FJ0vCDzo",
    "outputId": "cd72e96a-bbd8-4bc1-9627-828bd2efd3ec"
   },
   "outputs": [],
   "source": [
    "X.shape"
   ]
  },
  {
   "cell_type": "code",
   "execution_count": null,
   "metadata": {
    "colab": {
     "base_uri": "https://localhost:8080/",
     "height": 34
    },
    "colab_type": "code",
    "id": "3_erLhk1CVeQ",
    "outputId": "3b7a717c-77a2-4cf3-d739-6e8afe78bffd"
   },
   "outputs": [],
   "source": [
    "y.shape"
   ]
  },
  {
   "cell_type": "markdown",
   "metadata": {
    "colab_type": "text",
    "id": "J77kbGOpO-S9"
   },
   "source": [
    "# Splitting of dataset into train (80%), validation (20%)"
   ]
  },
  {
   "cell_type": "code",
   "execution_count": null,
   "metadata": {
    "colab": {
     "base_uri": "https://localhost:8080/",
     "height": 85
    },
    "colab_type": "code",
    "id": "we5GXLWOPE-0",
    "outputId": "d4adaa62-ba05-4d80-fe0c-b93086e07279"
   },
   "outputs": [],
   "source": [
    "X_train, X_val, y_train, y_val = train_test_split(X, y, test_size=0.2, random_state=1)\n",
    "\n",
    "print(\"Train shape: {}\".format(X_train.shape))\n",
    "print(\"Train label shape: {}\".format(y_train.shape))\n",
    "print(\"Validation shape: {}\".format(X_val.shape))\n",
    "print(\"Validation label shape: {}\".format(y_val.shape))"
   ]
  },
  {
   "cell_type": "markdown",
   "metadata": {
    "colab_type": "text",
    "id": "AJIJ1ejRSKVu"
   },
   "source": [
    "# Converting to one-hot vector representation"
   ]
  },
  {
   "cell_type": "code",
   "execution_count": null,
   "metadata": {
    "colab": {
     "base_uri": "https://localhost:8080/",
     "height": 68
    },
    "colab_type": "code",
    "id": "dEVLLFCe3hHI",
    "outputId": "902d3f78-cfe3-4190-f99b-8ccb1429fdf3"
   },
   "outputs": [],
   "source": [
    "y_train_one_hot = to_categorical(y_train)\n",
    "print(y_train_one_hot.shape)\n",
    "\n",
    "num_classes = y_train_one_hot.shape[1]\n",
    "print(num_classes)\n",
    "\n",
    "y_val_one_hot = to_categorical(y_val)\n",
    "print(y_val_one_hot.shape)"
   ]
  },
  {
   "cell_type": "markdown",
   "metadata": {
    "colab_type": "text",
    "id": "ctgBH4Q9AlQR"
   },
   "source": [
    "# Visualizing the dataset"
   ]
  },
  {
   "cell_type": "code",
   "execution_count": null,
   "metadata": {
    "colab": {},
    "colab_type": "code",
    "id": "4YXBjR-hApUh"
   },
   "outputs": [],
   "source": [
    "classes = {0: 'cats',\n",
    "          1: 'dogs'}"
   ]
  },
  {
   "cell_type": "code",
   "execution_count": null,
   "metadata": {
    "colab": {},
    "colab_type": "code",
    "id": "a75tCEIQBHk0"
   },
   "outputs": [],
   "source": [
    "def show_images(X, y, idx) :\n",
    "  image = X[idx]\n",
    "  #image = image.reshape((ROWS, COLS, CHANNELS))\n",
    "  plt.figure(figsize=(4,2))\n",
    "  plt.imshow(image)\n",
    "  plt.title(\"This is a {}\".format(classes[y[idx,0]]))\n",
    "  plt.show()"
   ]
  },
  {
   "cell_type": "code",
   "execution_count": null,
   "metadata": {
    "colab": {
     "base_uri": "https://localhost:8080/",
     "height": 172
    },
    "colab_type": "code",
    "id": "1WCN9cDsBKZl",
    "outputId": "bfe1014c-ed70-4b14-e555-b2a8e5af2252"
   },
   "outputs": [],
   "source": [
    "show_images(X_train, y_train, 0)"
   ]
  },
  {
   "cell_type": "code",
   "execution_count": null,
   "metadata": {
    "colab": {},
    "colab_type": "code",
    "id": "MsqYQZRIHUvj"
   },
   "outputs": [],
   "source": [
    "X_train_norm = X_train / 255.\n",
    "X_val_norm = X_val / 255."
   ]
  },
  {
   "cell_type": "code",
   "execution_count": null,
   "metadata": {
    "colab": {
     "base_uri": "https://localhost:8080/",
     "height": 172
    },
    "colab_type": "code",
    "id": "EGh7IONbXgO3",
    "outputId": "d19768a6-a7c3-4257-e903-ee5b80bf5581"
   },
   "outputs": [],
   "source": [
    "show_images(X_train_norm, y_train, 5)"
   ]
  },
  {
   "cell_type": "markdown",
   "metadata": {
    "colab_type": "text",
    "id": "1xl9JjclEfW_"
   },
   "source": [
    "# Final Choosen Model Architecture and Training of Model"
   ]
  },
  {
   "cell_type": "markdown",
   "metadata": {
    "colab_type": "text",
    "id": "ptwfsCQwX9sO"
   },
   "source": [
    "For the details about how this architecture is choosen, scroll down to the last section on \"How to choose the right model architecture iteratively?\""
   ]
  },
  {
   "cell_type": "code",
   "execution_count": null,
   "metadata": {
    "colab": {},
    "colab_type": "code",
    "id": "rvWtxf5eC_AN"
   },
   "outputs": [],
   "source": [
    "model9 = Sequential()\n",
    "\n",
    "model9.add(Conv2D(32, (3,3), input_shape=(ROWS, COLS, CHANNELS), activation='relu'))\n",
    "model9.add(MaxPooling2D(pool_size = (2,2)))\n",
    "\n",
    "model9.add(Conv2D(64, (3,3), activation='relu'))\n",
    "model9.add(MaxPooling2D(pool_size = (2,2)))\n",
    "model9.add(Dropout(0.4))\n",
    "\n",
    "model9.add(Conv2D(128, (3,3), activation='relu'))\n",
    "model9.add(MaxPooling2D(pool_size = (2,2)))\n",
    "model9.add(Dropout(0.4))\n",
    "\n",
    "model9.add(Conv2D(256, (3,3), activation='relu'))\n",
    "model9.add(MaxPooling2D(pool_size = (2,2)))\n",
    "model9.add(Dropout(0.4))\n",
    "\n",
    "model9.add(Conv2D(512, (1,1), activation='relu'))\n",
    "#model6.add(MaxPooling2D(pool_size = (2,2)))\n",
    "\n",
    "model9.add(Flatten())\n",
    "model9.add(Dropout(0.4))\n",
    "\n",
    "model9.add(Dense(units=120, activation='relu'))\n",
    "model9.add(Dense(units=2, activation='sigmoid'))"
   ]
  },
  {
   "cell_type": "code",
   "execution_count": null,
   "metadata": {
    "colab": {
     "base_uri": "https://localhost:8080/",
     "height": 680
    },
    "colab_type": "code",
    "id": "MlpCzuFq41Zy",
    "outputId": "dce548ef-cdb2-4a08-bb22-cd18f173c41c"
   },
   "outputs": [],
   "source": [
    "model9.compile(optimizer='adam', loss='categorical_crossentropy', metrics=['accuracy'])\n",
    "model9.summary()"
   ]
  },
  {
   "cell_type": "code",
   "execution_count": null,
   "metadata": {
    "colab": {
     "base_uri": "https://localhost:8080/",
     "height": 1822
    },
    "colab_type": "code",
    "id": "d7lwMbG8ALBc",
    "outputId": "2559388f-5e56-427d-931d-31fc8a1c67d7"
   },
   "outputs": [],
   "source": [
    "model9.fit(X_train_norm, y_train_one_hot, validation_data=(X_val_norm, y_val_one_hot), epochs=50, batch_size = 64)"
   ]
  },
  {
   "cell_type": "markdown",
   "metadata": {
    "colab_type": "text",
    "id": "HPPAi3jOMK5o"
   },
   "source": [
    "# Making Predictions using the model on Training and Test data"
   ]
  },
  {
   "cell_type": "code",
   "execution_count": null,
   "metadata": {
    "colab": {
     "base_uri": "https://localhost:8080/",
     "height": 189
    },
    "colab_type": "code",
    "id": "zR5WqfXXIVvy",
    "outputId": "ca4bb795-5b98-470f-9db7-89a2b5c725f6"
   },
   "outputs": [],
   "source": [
    "image = X_train[0]\n",
    "test_pred = model9.predict_classes(image.reshape(1, 64, 64, 3))\n",
    "\n",
    "show_images(X_train, y_train,0)\n",
    "\n",
    "print(\"Our Model Prediction: {}\".format(test_pred))"
   ]
  },
  {
   "cell_type": "code",
   "execution_count": null,
   "metadata": {
    "colab": {
     "base_uri": "https://localhost:8080/",
     "height": 189
    },
    "colab_type": "code",
    "id": "72rpic8IJf4N",
    "outputId": "aed4139b-f5df-468f-d8f2-7bf19a1ce82d"
   },
   "outputs": [],
   "source": [
    "image = X_train[100]\n",
    "test_pred = model9.predict_classes(image.reshape(1, 64, 64, 3))\n",
    "\n",
    "show_images(X_train, y_train,100)\n",
    "\n",
    "print(\"Our Model Prediction: {}\".format(test_pred))"
   ]
  },
  {
   "cell_type": "code",
   "execution_count": null,
   "metadata": {
    "colab": {},
    "colab_type": "code",
    "id": "MoGTDT9UO6RZ"
   },
   "outputs": [],
   "source": [
    "def show_image_prediction(X, idx, model) :\n",
    "  image = X[idx].reshape(1,64,64,3)\n",
    "  image_class = classes[model.predict_classes(image).item()]\n",
    "  image = image.reshape((ROWS, COLS, CHANNELS))\n",
    "  plt.figure(figsize = (4,2))\n",
    "  plt.imshow(image)\n",
    "  plt.title(\"Test {} : I think this is {}\".format(idx, image_class))\n",
    "  plt.show()"
   ]
  },
  {
   "cell_type": "code",
   "execution_count": null,
   "metadata": {
    "colab": {
     "base_uri": "https://localhost:8080/",
     "height": 85
    },
    "colab_type": "code",
    "id": "NJPXNzi1PVtA",
    "outputId": "8abaf651-26eb-4ac9-b281-62935462d2f8"
   },
   "outputs": [],
   "source": [
    "X_test, test_idx = prep_data(test_images)"
   ]
  },
  {
   "cell_type": "code",
   "execution_count": null,
   "metadata": {
    "colab": {
     "base_uri": "https://localhost:8080/",
     "height": 1567
    },
    "colab_type": "code",
    "id": "ieWX6pXAM75k",
    "outputId": "b9ef8581-f66f-404d-c4e3-9e668275a090"
   },
   "outputs": [],
   "source": [
    "X_test_lr, test_idx = X_test, test_idx\n",
    "\n",
    "for i in np.random.randint(0, len(X_test_lr), 10) :\n",
    "  show_image_prediction(X_test_lr, i, model9)"
   ]
  },
  {
   "cell_type": "markdown",
   "metadata": {
    "colab_type": "text",
    "id": "ZZRJrQSkayC8"
   },
   "source": [
    "# How to choose the right model architecture iteratively?"
   ]
  },
  {
   "cell_type": "markdown",
   "metadata": {
    "colab_type": "text",
    "id": "craDUPGPa3id"
   },
   "source": [
    "Choosing the right architecture and the correct set of hyperparameter is an art of Deep Learning that's very important to master for any data scientist.\n",
    "\n",
    "Here, I give you a quick guide on how you can choose the right architecture for your particular task and the correct set of hyperparameters iteratively."
   ]
  },
  {
   "cell_type": "markdown",
   "metadata": {
    "colab_type": "text",
    "id": "TO7qcasocHk4"
   },
   "source": [
    "**Model 1**"
   ]
  },
  {
   "cell_type": "markdown",
   "metadata": {
    "colab_type": "text",
    "id": "8GSkh8xsbRYp"
   },
   "source": [
    "1. Build a simple and rought model quickly. It will not perform good but it will give you a good insight as to where you can improve in your architecture and set of hyperparameters."
   ]
  },
  {
   "cell_type": "code",
   "execution_count": null,
   "metadata": {
    "colab": {},
    "colab_type": "code",
    "id": "0bOJQKBKbamy"
   },
   "outputs": [],
   "source": [
    "model1 = Sequential()\n",
    "\n",
    "model1.add(Conv2D(32, (3,3), input_shape=(ROWS, COLS, CHANNELS), activation='relu'))\n",
    "model1.add(MaxPooling2D(pool_size = (2,2)))\n",
    "\n",
    "model1.add(Conv2D(32, (3,3), activation='relu'))\n",
    "model1.add(MaxPooling2D(pool_size = (2,2)))\n",
    "model1.add(Dropout(0.6))\n",
    "\n",
    "model1.add(Conv2D(64, (3,3), activation='relu'))\n",
    "model1.add(MaxPooling2D(pool_size = (2,2)))\n",
    "\n",
    "model1.add(Conv2D(64, (3,3), activation='relu'))\n",
    "model1.add(MaxPooling2D(pool_size = (2,2)))\n",
    "\n",
    "model1.add(Flatten())\n",
    "model1.add(Dropout(0.6))\n",
    "\n",
    "model1.add(Dense(units=120, activation='relu'))\n",
    "model1.add(Dense(units=2, activation='sigmoid'))"
   ]
  },
  {
   "cell_type": "code",
   "execution_count": null,
   "metadata": {
    "colab": {},
    "colab_type": "code",
    "id": "yXN3vWnBDhwU"
   },
   "outputs": [],
   "source": [
    "model1.compile(optimizer='adam', loss='categorical_crossentropy', metrics=['accuracy'])"
   ]
  },
  {
   "cell_type": "code",
   "execution_count": null,
   "metadata": {
    "colab": {
     "base_uri": "https://localhost:8080/",
     "height": 578
    },
    "colab_type": "code",
    "id": "LzRU0N8MEK_k",
    "outputId": "dbbb588e-74d4-4aa3-a041-0dd510281b16"
   },
   "outputs": [],
   "source": [
    "model1.summary()"
   ]
  },
  {
   "cell_type": "code",
   "execution_count": null,
   "metadata": {
    "colab": {
     "base_uri": "https://localhost:8080/",
     "height": 731
    },
    "colab_type": "code",
    "id": "xe7RHtCSbXKC",
    "outputId": "69d89fa6-8ae0-429e-fc72-854783aa6366"
   },
   "outputs": [],
   "source": [
    "model1.fit(X_train_norm, y_train_one_hot, validation_data=(X_val_norm, y_val_one_hot), epochs=20, batch_size = 64)"
   ]
  },
  {
   "cell_type": "markdown",
   "metadata": {
    "colab_type": "text",
    "id": "I38mXLnLatZN"
   },
   "source": [
    "As you can see our model is showing a training accruacy of 84.84 % on training data that can be increased. However, our model right now has only 96650 trainable parameters. We can make our model more deeper to make our training accuracy even better."
   ]
  },
  {
   "cell_type": "markdown",
   "metadata": {
    "colab_type": "text",
    "id": "wT7DvH8r3r-a"
   },
   "source": [
    "**Model 2**"
   ]
  },
  {
   "cell_type": "code",
   "execution_count": null,
   "metadata": {
    "colab": {},
    "colab_type": "code",
    "id": "XujCI5w43q9T"
   },
   "outputs": [],
   "source": [
    "model2 = Sequential()\n",
    "\n",
    "model2.add(Conv2D(32, (3,3), input_shape=(ROWS, COLS, CHANNELS), activation='relu'))\n",
    "model2.add(MaxPooling2D(pool_size = (2,2)))\n",
    "\n",
    "model2.add(Conv2D(64, (3,3), activation='relu'))\n",
    "model2.add(MaxPooling2D(pool_size = (2,2)))\n",
    "#model2.add(Dropout(0.6))\n",
    "\n",
    "model2.add(Conv2D(128, (3,3), activation='relu'))\n",
    "model2.add(MaxPooling2D(pool_size = (2,2)))\n",
    "\n",
    "model2.add(Conv2D(256, (3,3), activation='relu'))\n",
    "model2.add(MaxPooling2D(pool_size = (2,2)))\n",
    "\n",
    "model2.add(Flatten())\n",
    "#model2.add(Dropout(0.6))\n",
    "\n",
    "model2.add(Dense(units=120, activation='relu'))\n",
    "model2.add(Dense(units=2, activation='sigmoid'))"
   ]
  },
  {
   "cell_type": "code",
   "execution_count": null,
   "metadata": {
    "colab": {
     "base_uri": "https://localhost:8080/",
     "height": 510
    },
    "colab_type": "code",
    "id": "fQ1BbKBE300s",
    "outputId": "aaf6b7aa-18d1-4aa6-cbe8-aec8f5269bf9"
   },
   "outputs": [],
   "source": [
    "model2.compile(optimizer='adam', loss='categorical_crossentropy', metrics=['accuracy'])\n",
    "model2.summary()"
   ]
  },
  {
   "cell_type": "code",
   "execution_count": null,
   "metadata": {
    "colab": {
     "base_uri": "https://localhost:8080/",
     "height": 731
    },
    "colab_type": "code",
    "id": "CIbbg9d835OZ",
    "outputId": "bfe33ebc-f040-49fc-9e2b-326e5a692762"
   },
   "outputs": [],
   "source": [
    "model2.fit(X_train_norm, y_train_one_hot, validation_data=(X_val_norm, y_val_one_hot), epochs=20, batch_size = 64)"
   ]
  },
  {
   "cell_type": "markdown",
   "metadata": {
    "colab_type": "text",
    "id": "eLhpo8zkcQhj"
   },
   "source": [
    "We can clearly see that making our model deeper do help with the training accuracy as now our Training Accuracy has increased to 98.88% but our validation accuracy is only 84.56%. This means our model is overfitting. We can add regularization techniques like dropout to improve our validation set performance and prevent overfitting of our model."
   ]
  },
  {
   "cell_type": "markdown",
   "metadata": {
    "colab_type": "text",
    "id": "KJnjEOrC9aGe"
   },
   "source": [
    "**Model 3**"
   ]
  },
  {
   "cell_type": "code",
   "execution_count": null,
   "metadata": {
    "colab": {},
    "colab_type": "code",
    "id": "DUPnwICm-rLT"
   },
   "outputs": [],
   "source": [
    "model3 = Sequential()\n",
    "\n",
    "model3.add(Conv2D(32, (3,3), input_shape=(ROWS, COLS, CHANNELS), activation='relu'))\n",
    "model3.add(MaxPooling2D(pool_size = (2,2)))\n",
    "\n",
    "model3.add(Conv2D(64, (3,3), activation='relu'))\n",
    "model3.add(MaxPooling2D(pool_size = (2,2)))\n",
    "model3.add(Dropout(0.3))\n",
    "\n",
    "model3.add(Conv2D(128, (3,3), activation='relu'))\n",
    "model3.add(MaxPooling2D(pool_size = (2,2)))\n",
    "\n",
    "model3.add(Conv2D(256, (3,3), activation='relu'))\n",
    "model3.add(MaxPooling2D(pool_size = (2,2)))\n",
    "\n",
    "model3.add(Flatten())\n",
    "model3.add(Dropout(0.3))\n",
    "\n",
    "model3.add(Dense(units=120, activation='relu'))\n",
    "model3.add(Dense(units=2, activation='sigmoid'))"
   ]
  },
  {
   "cell_type": "code",
   "execution_count": null,
   "metadata": {
    "colab": {
     "base_uri": "https://localhost:8080/",
     "height": 578
    },
    "colab_type": "code",
    "id": "XEUojnBd-tXq",
    "outputId": "b1c3812c-0f12-445d-b92b-03c27a4adf0e"
   },
   "outputs": [],
   "source": [
    "model3.compile(optimizer='adam', loss='categorical_crossentropy', metrics=['accuracy'])\n",
    "model3.summary()"
   ]
  },
  {
   "cell_type": "code",
   "execution_count": null,
   "metadata": {
    "colab": {
     "base_uri": "https://localhost:8080/",
     "height": 731
    },
    "colab_type": "code",
    "id": "xVhFiETZ-xoe",
    "outputId": "66ed30f3-27e7-4b14-c60a-230be5692fa2"
   },
   "outputs": [],
   "source": [
    "model3.fit(X_train_norm, y_train_one_hot, validation_data=(X_val_norm, y_val_one_hot), epochs=20, batch_size = 64)"
   ]
  },
  {
   "cell_type": "markdown",
   "metadata": {
    "colab_type": "text",
    "id": "dGdugnvhdMw-"
   },
   "source": [
    "After applying Dropout as our regularization technique, the amount of overfitting has certainly reduced but our model training accuracy has considerably reduced to 94.40%. This means that if we further increase the dropout for further reducing the overfitting, our training accuracy will decrease drastically. So, we need to increase the trainable parameters more. That means, either we can make our network more deep or remove the MaxPooling2D layer just before the flatten(). We take the 2nd approach. But both approaches can be checked. Moreover, we add the dropout as well so that our model do not overfit."
   ]
  },
  {
   "cell_type": "markdown",
   "metadata": {
    "colab_type": "text",
    "id": "LTw3iM3hABtB"
   },
   "source": [
    "Model 4"
   ]
  },
  {
   "cell_type": "code",
   "execution_count": null,
   "metadata": {
    "colab": {},
    "colab_type": "code",
    "id": "_y_OB4sD_-T_"
   },
   "outputs": [],
   "source": [
    "model4 = Sequential()\n",
    "\n",
    "model4.add(Conv2D(32, (3,3), input_shape=(ROWS, COLS, CHANNELS), activation='relu'))\n",
    "model4.add(MaxPooling2D(pool_size = (2,2)))\n",
    "\n",
    "model4.add(Conv2D(64, (3,3), activation='relu'))\n",
    "model4.add(MaxPooling2D(pool_size = (2,2)))\n",
    "model4.add(Dropout(0.4))\n",
    "\n",
    "model4.add(Conv2D(128, (3,3), activation='relu'))\n",
    "model4.add(MaxPooling2D(pool_size = (2,2)))\n",
    "model4.add(Dropout(0.4))\n",
    "\n",
    "model4.add(Conv2D(256, (3,3), activation='relu'))\n",
    "model4.add(MaxPooling2D(pool_size = (2,2)))\n",
    "model4.add(Dropout(0.4))\n",
    "\n",
    "model4.add(Conv2D(512, (1,1), activation='relu'))\n",
    "#model6.add(MaxPooling2D(pool_size = (2,2)))\n",
    "\n",
    "model4.add(Flatten())\n",
    "model4.add(Dropout(0.4))\n",
    "\n",
    "model4.add(Dense(units=120, activation='relu'))\n",
    "model4.add(Dense(units=2, activation='sigmoid'))"
   ]
  },
  {
   "cell_type": "markdown",
   "metadata": {
    "colab_type": "text",
    "id": "l4NtMDq4fGDI"
   },
   "source": [
    "This model gives the best accuracy. So we trained it for 50 epochs and the result for which is shown in the \"Final Choosen Model Architecture and Training of Model\" section."
   ]
  },
  {
   "cell_type": "markdown",
   "metadata": {
    "colab_type": "text",
    "id": "wqhNKZiffWuC"
   },
   "source": [
    "You can further twerk the hyperparameter and the model architecture to get even better accuracy. However, I will leave you here.\n",
    "\n",
    "Wish You A Happy Exploring!!"
   ]
  }
 ],
 "metadata": {
  "accelerator": "GPU",
  "colab": {
   "collapsed_sections": [],
   "include_colab_link": true,
   "name": "dogsvscatsCNN_final.ipynb",
   "provenance": [],
   "version": "0.3.2"
  },
  "kernelspec": {
   "display_name": "conda_tensorflow_p36",
   "language": "python",
   "name": "conda_tensorflow_p36"
  },
  "language_info": {
   "codemirror_mode": {
    "name": "ipython",
    "version": 3
   },
   "file_extension": ".py",
   "mimetype": "text/x-python",
   "name": "python",
   "nbconvert_exporter": "python",
   "pygments_lexer": "ipython3",
   "version": "3.6.10"
  }
 },
 "nbformat": 4,
 "nbformat_minor": 4
}
