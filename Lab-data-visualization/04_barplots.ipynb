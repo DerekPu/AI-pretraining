{
 "cells": [
  {
   "cell_type": "markdown",
   "metadata": {},
   "source": [
    "# Bar plots in Matplotlib"
   ]
  },
  {
   "cell_type": "markdown",
   "metadata": {},
   "source": [
    "# Sections"
   ]
  },
  {
   "cell_type": "markdown",
   "metadata": {},
   "source": [
    "- [Bar plot with error bars](#Bar-plot-with-error-bars)\n",
    "- [Horizontal bar plot with error bars](#Horizontal-bar-plot-with-error-bars)\n",
    "- [Back-to-back bar plot](#Back-to-back-bar-plot)\n",
    "- [Grouped bar plot](#Grouped-bar-plot)\n",
    "- [Bar plot with color gradients](#Bar-plot-with-color-gradients)"
   ]
  },
  {
   "cell_type": "markdown",
   "metadata": {},
   "source": [
    "<br>\n",
    "<br>"
   ]
  },
  {
   "cell_type": "markdown",
   "metadata": {},
   "source": [
    "# Bar plot with error bars"
   ]
  },
  {
   "cell_type": "markdown",
   "metadata": {},
   "source": [
    "[[back to top](#Sections)]"
   ]
  },
  {
   "cell_type": "code",
   "execution_count": 1,
   "metadata": {
    "collapsed": false,
    "jupyter": {
     "outputs_hidden": false
    }
   },
   "outputs": [
    {
     "data": {
      "image/png": "[encoded data removed]",
      "text/plain": [
       "<Figure size 432x288 with 1 Axes>"
      ]
     },
     "metadata": {
      "needs_background": "light"
     },
     "output_type": "display_data"
    }
   ],
   "source": [
    "import matplotlib.pyplot as plt\n",
    "\n",
    "# input data\n",
    "mean_values = [1, 2, 3]\n",
    "variance = [0.2, 0.4, 0.5]\n",
    "bar_labels = ['bar 1', 'bar 2', 'bar 3']\n",
    "\n",
    "# plot bars\n",
    "x_pos = list(range(len(bar_labels)))\n",
    "plt.bar(x_pos, mean_values, yerr=variance, align='center', alpha=0.5)\n",
    "\n",
    "plt.grid()\n",
    "\n",
    "# set height of the y-axis\n",
    "max_y = max(zip(mean_values, variance)) # returns a tuple, here: (3, 0.5)\n",
    "plt.ylim([0, (max_y[0] + max_y[1]) * 1.1])\n",
    "\n",
    "# set axes labels and title\n",
    "plt.ylabel('variable y')\n",
    "plt.xticks(x_pos, bar_labels)\n",
    "plt.title('Bar plot with error bars')\n",
    "\n",
    "plt.show()\n",
    "#plt.savefig('./my_plot.png')"
   ]
  },
  {
   "cell_type": "markdown",
   "metadata": {},
   "source": [
    "<br>\n",
    "<br>"
   ]
  },
  {
   "cell_type": "markdown",
   "metadata": {},
   "source": [
    "# Horizontal bar plot with error bars"
   ]
  },
  {
   "cell_type": "markdown",
   "metadata": {},
   "source": [
    "[[back to top](#Sections)]"
   ]
  },
  {
   "cell_type": "code",
   "execution_count": 2,
   "metadata": {
    "collapsed": false,
    "jupyter": {
     "outputs_hidden": false
    }
   },
   "outputs": [
    {
     "data": {
      "image/png": "[encoded data removed]",
      "text/plain": [
       "<Figure size 576x432 with 1 Axes>"
      ]
     },
     "metadata": {
      "needs_background": "light"
     },
     "output_type": "display_data"
    }
   ],
   "source": [
    "from matplotlib import pyplot as plt\n",
    "import numpy as np\n",
    "\n",
    "# input data\n",
    "mean_values = [1, 2, 3]\n",
    "std_dev = [0.2, 0.4, 0.5]\n",
    "bar_labels = ['bar 1', 'bar 2', 'bar 3']\n",
    "\n",
    "fig = plt.figure(figsize=(8,6))\n",
    "\n",
    "# plot bars\n",
    "y_pos = np.arange(len(mean_values))\n",
    "y_pos = [x for x in y_pos]\n",
    "plt.yticks(y_pos, bar_labels, fontsize=10)\n",
    "plt.barh(y_pos, mean_values, xerr=std_dev, \n",
    "         align='center', alpha=0.4, color='g')\n",
    "\n",
    "# annotation and labels\n",
    "plt.xlabel('measurement x')\n",
    "t = plt.title('Bar plot with standard deviation')\n",
    "plt.ylim([-1,len(mean_values)+0.5])\n",
    "plt.xlim([0, 4])\n",
    "plt.grid()\n",
    "\n",
    "plt.show()"
   ]
  },
  {
   "cell_type": "markdown",
   "metadata": {},
   "source": [
    "<br>\n",
    "<br>"
   ]
  },
  {
   "cell_type": "markdown",
   "metadata": {},
   "source": [
    "# Back-to-back bar plot"
   ]
  },
  {
   "cell_type": "markdown",
   "metadata": {},
   "source": [
    "[[back to top](#Sections)]"
   ]
  },
  {
   "cell_type": "code",
   "execution_count": 3,
   "metadata": {
    "collapsed": false,
    "jupyter": {
     "outputs_hidden": false
    }
   },
   "outputs": [
    {
     "data": {
      "image/png": "[encoded data removed]",
      "text/plain": [
       "<Figure size 576x432 with 1 Axes>"
      ]
     },
     "metadata": {
      "needs_background": "light"
     },
     "output_type": "display_data"
    }
   ],
   "source": [
    "from matplotlib import pyplot as plt\n",
    "import numpy as np\n",
    "\n",
    "# input data\n",
    "X1 = np.array([1, 2, 3])\n",
    "X2 = np.array([2, 2, 3])\n",
    "\n",
    "\n",
    "bar_labels = ['bar 1', 'bar 2', 'bar 3']\n",
    "\n",
    "fig = plt.figure(figsize=(8,6))\n",
    "\n",
    "# plot bars\n",
    "y_pos = np.arange(len(X1))\n",
    "y_pos = [x for x in y_pos]\n",
    "plt.yticks(y_pos, bar_labels, fontsize=10)\n",
    "\n",
    "\n",
    "plt.barh(y_pos, X1, \n",
    "         align='center', alpha=0.4, color='g')\n",
    "\n",
    "# we simply negate the values of the numpy array for\n",
    "# the second bar:\n",
    "plt.barh(y_pos, -X2,\n",
    "         align='center', alpha=0.4, color='b')\n",
    "\n",
    "# annotation and labels\n",
    "plt.xlabel('measurement x')\n",
    "t = plt.title('Bar plot with standard deviation')\n",
    "plt.ylim([-1,len(X1)+0.1])\n",
    "plt.xlim([-max(X2)-1, max(X1)+1])\n",
    "plt.grid()\n",
    "\n",
    "plt.show()"
   ]
  },
  {
   "cell_type": "markdown",
   "metadata": {},
   "source": [
    "<br>\n",
    "<br>"
   ]
  },
  {
   "cell_type": "markdown",
   "metadata": {},
   "source": [
    "# Grouped bar plot"
   ]
  },
  {
   "cell_type": "markdown",
   "metadata": {},
   "source": [
    "[[back to top](#Sections)]"
   ]
  },
  {
   "cell_type": "code",
   "execution_count": 4,
   "metadata": {
    "collapsed": false,
    "jupyter": {
     "outputs_hidden": false
    }
   },
   "outputs": [
    {
     "data": {
      "image/png": "[encoded data removed]",
      "text/plain": [
       "<Figure size 576x432 with 1 Axes>"
      ]
     },
     "metadata": {
      "needs_background": "light"
     },
     "output_type": "display_data"
    }
   ],
   "source": [
    "import matplotlib.pyplot as plt\n",
    "\n",
    "# Input data\n",
    "green_data = [1, 2, 3]\n",
    "blue_data = [3, 2, 1]\n",
    "red_data = [2, 3, 3]\n",
    "labels = ['group 1', 'group 2', 'group 3']\n",
    "\n",
    "# Setting the positions and width for the bars\n",
    "pos = list(range(len(green_data))) \n",
    "width = 0.2 \n",
    "    \n",
    "# Plotting the bars\n",
    "fig, ax = plt.subplots(figsize=(8,6))\n",
    "\n",
    "plt.bar(pos, green_data, width,\n",
    "                 alpha=0.5,\n",
    "                 color='g',\n",
    "                 label=labels[0])\n",
    "\n",
    "plt.bar([p + width for p in pos], blue_data, width,\n",
    "                 alpha=0.5,\n",
    "                 color='b',\n",
    "                 label=labels[1])\n",
    "    \n",
    "plt.bar([p + width*2 for p in pos], red_data, width,\n",
    "                 alpha=0.5,\n",
    "                 color='r',\n",
    "                 label=labels[2])\n",
    "\n",
    "# Setting axis labels and ticks\n",
    "ax.set_ylabel('y-value')\n",
    "ax.set_title('Grouped bar plot')\n",
    "ax.set_xticks([p + 1.5 * width for p in pos])\n",
    "ax.set_xticklabels(labels)\n",
    "\n",
    "# Setting the x-axis and y-axis limits\n",
    "plt.xlim(min(pos)-width, max(pos)+width*4)\n",
    "plt.ylim([0, max(green_data + blue_data + red_data) * 1.5])\n",
    "\n",
    "# Adding the legend and showing the plot\n",
    "plt.legend(['green', 'blue', 'red'], loc='upper left')\n",
    "plt.grid()\n",
    "plt.show()"
   ]
  },
  {
   "cell_type": "markdown",
   "metadata": {},
   "source": [
    "<br>\n",
    "<br>"
   ]
  },
  {
   "cell_type": "markdown",
   "metadata": {},
   "source": [
    "# Bar plot with color gradients"
   ]
  },
  {
   "cell_type": "markdown",
   "metadata": {},
   "source": [
    "[[back to top](#Sections)]"
   ]
  },
  {
   "cell_type": "code",
   "execution_count": 5,
   "metadata": {
    "collapsed": false,
    "jupyter": {
     "outputs_hidden": false
    }
   },
   "outputs": [
    {
     "data": {
      "image/png": "[encoded data removed]",
      "text/plain": [
       "<Figure size 432x288 with 2 Axes>"
      ]
     },
     "metadata": {
      "needs_background": "light"
     },
     "output_type": "display_data"
    }
   ],
   "source": [
    "import matplotlib.pyplot as plt\n",
    "import matplotlib.colors as col\n",
    "import matplotlib.cm as cm\n",
    "\n",
    "# input data\n",
    "mean_values = range(10,18)\n",
    "x_pos = range(len(mean_values))\n",
    "\n",
    "\n",
    "# create colormap\n",
    "cmap1 = cm.ScalarMappable(col.Normalize(min(mean_values), max(mean_values), cm.hot))\n",
    "cmap2 = cm.ScalarMappable(col.Normalize(0, 20, cm.hot))\n",
    "\n",
    "# plot bars\n",
    "plt.subplot(121)\n",
    "plt.bar(x_pos, mean_values, align='center', alpha=0.5, color=cmap1.to_rgba(mean_values))\n",
    "plt.ylim(0, max(mean_values) * 1.1)\n",
    "\n",
    "plt.subplot(122)\n",
    "plt.bar(x_pos, mean_values, align='center', alpha=0.5, color=cmap2.to_rgba(mean_values))\n",
    "plt.ylim(0, max(mean_values) * 1.1)\n",
    "\n",
    "plt.show()"
   ]
  },
  {
   "cell_type": "markdown",
   "metadata": {},
   "source": [
    "<br>\n",
    "<br>"
   ]
  },
  {
   "cell_type": "code",
   "execution_count": null,
   "metadata": {
    "collapsed": false,
    "jupyter": {
     "outputs_hidden": false
    }
   },
   "outputs": [],
   "source": []
  }
 ],
 "metadata": {
  "kernelspec": {
   "display_name": "conda_python3",
   "language": "python",
   "name": "conda_python3"
  },
  "language_info": {
   "codemirror_mode": {
    "name": "ipython",
    "version": 3
   },
   "file_extension": ".py",
   "mimetype": "text/x-python",
   "name": "python",
   "nbconvert_exporter": "python",
   "pygments_lexer": "ipython3",
   "version": "3.6.10"
  }
 },
 "nbformat": 4,
 "nbformat_minor": 4
}
